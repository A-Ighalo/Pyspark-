{
  "nbformat": 4,
  "nbformat_minor": 0,
  "metadata": {
    "colab": {
      "provenance": []
    },
    "kernelspec": {
      "name": "python3",
      "display_name": "Python 3"
    },
    "language_info": {
      "name": "python"
    }
  },
  "cells": [
    {
      "cell_type": "code",
      "execution_count": 6,
      "metadata": {
        "id": "jzYgX5uuOKCP"
      },
      "outputs": [],
      "source": [
        "from pyspark.sql import  SparkSession"
      ]
    },
    {
      "cell_type": "code",
      "source": [
        "spark = SparkSession.builder.appName('practice').getOrCreate()"
      ],
      "metadata": {
        "id": "emzStI-nOXJ7"
      },
      "execution_count": 7,
      "outputs": []
    },
    {
      "cell_type": "code",
      "source": [
        "spark"
      ],
      "metadata": {
        "colab": {
          "base_uri": "https://localhost:8080/",
          "height": 219
        },
        "id": "1VqWMnWhOa1v",
        "outputId": "978c7e55-c611-4d07-aebc-2101a44f52d3"
      },
      "execution_count": 8,
      "outputs": [
        {
          "output_type": "execute_result",
          "data": {
            "text/plain": [
              "<pyspark.sql.session.SparkSession at 0x7a5bcb776e50>"
            ],
            "text/html": [
              "\n",
              "            <div>\n",
              "                <p><b>SparkSession - in-memory</b></p>\n",
              "                \n",
              "        <div>\n",
              "            <p><b>SparkContext</b></p>\n",
              "\n",
              "            <p><a href=\"http://ca7361e4281e:4040\">Spark UI</a></p>\n",
              "\n",
              "            <dl>\n",
              "              <dt>Version</dt>\n",
              "                <dd><code>v3.5.4</code></dd>\n",
              "              <dt>Master</dt>\n",
              "                <dd><code>local[*]</code></dd>\n",
              "              <dt>AppName</dt>\n",
              "                <dd><code>practice</code></dd>\n",
              "            </dl>\n",
              "        </div>\n",
              "        \n",
              "            </div>\n",
              "        "
            ]
          },
          "metadata": {},
          "execution_count": 8
        }
      ]
    },
    {
      "cell_type": "code",
      "source": [
        "# file path\n",
        "data_path = '/content/location_temp.csv'\n",
        "df1 = spark.read.format('csv').option('header', 'true').load(data_path)"
      ],
      "metadata": {
        "id": "LGeMrodrOhKF"
      },
      "execution_count": 9,
      "outputs": []
    },
    {
      "cell_type": "code",
      "source": [
        "#show the top 10 rows in the csv\n",
        "df1.head(10)"
      ],
      "metadata": {
        "colab": {
          "base_uri": "https://localhost:8080/"
        },
        "id": "vBnNTPWSU1eO",
        "outputId": "54b4b36b-2b92-4fa1-d168-5b4b3a7951eb"
      },
      "execution_count": 10,
      "outputs": [
        {
          "output_type": "execute_result",
          "data": {
            "text/plain": [
              "[Row(event_date='03/04/2019 19:48:06', location_id='loc0', temp_celcius='29'),\n",
              " Row(event_date='03/04/2019 19:53:06', location_id='loc0', temp_celcius='27'),\n",
              " Row(event_date='03/04/2019 19:58:06', location_id='loc0', temp_celcius='28'),\n",
              " Row(event_date='03/04/2019 20:03:06', location_id='loc0', temp_celcius='30'),\n",
              " Row(event_date='03/04/2019 20:08:06', location_id='loc0', temp_celcius='27'),\n",
              " Row(event_date='03/04/2019 20:13:06', location_id='loc0', temp_celcius='27'),\n",
              " Row(event_date='03/04/2019 20:18:06', location_id='loc0', temp_celcius='27'),\n",
              " Row(event_date='03/04/2019 20:23:06', location_id='loc0', temp_celcius='29'),\n",
              " Row(event_date='03/04/2019 20:28:06', location_id='loc0', temp_celcius='32'),\n",
              " Row(event_date='03/04/2019 20:33:06', location_id='loc0', temp_celcius='35')]"
            ]
          },
          "metadata": {},
          "execution_count": 10
        }
      ]
    },
    {
      "cell_type": "code",
      "source": [
        "# by default it shows 20\n",
        "df1.show()"
      ],
      "metadata": {
        "colab": {
          "base_uri": "https://localhost:8080/"
        },
        "id": "sn4c_PXJVbqQ",
        "outputId": "28ad6426-d5ed-4960-ae33-4962b773d743"
      },
      "execution_count": 11,
      "outputs": [
        {
          "output_type": "stream",
          "name": "stdout",
          "text": [
            "+-------------------+-----------+------------+\n",
            "|         event_date|location_id|temp_celcius|\n",
            "+-------------------+-----------+------------+\n",
            "|03/04/2019 19:48:06|       loc0|          29|\n",
            "|03/04/2019 19:53:06|       loc0|          27|\n",
            "|03/04/2019 19:58:06|       loc0|          28|\n",
            "|03/04/2019 20:03:06|       loc0|          30|\n",
            "|03/04/2019 20:08:06|       loc0|          27|\n",
            "|03/04/2019 20:13:06|       loc0|          27|\n",
            "|03/04/2019 20:18:06|       loc0|          27|\n",
            "|03/04/2019 20:23:06|       loc0|          29|\n",
            "|03/04/2019 20:28:06|       loc0|          32|\n",
            "|03/04/2019 20:33:06|       loc0|          35|\n",
            "|03/04/2019 20:38:06|       loc0|          32|\n",
            "|03/04/2019 20:43:06|       loc0|          28|\n",
            "|03/04/2019 20:48:06|       loc0|          28|\n",
            "|03/04/2019 20:53:06|       loc0|          32|\n",
            "|03/04/2019 20:58:06|       loc0|          34|\n",
            "|03/04/2019 21:03:06|       loc0|          33|\n",
            "|03/04/2019 21:08:06|       loc0|          27|\n",
            "|03/04/2019 21:13:06|       loc0|          28|\n",
            "|03/04/2019 21:18:06|       loc0|          33|\n",
            "|03/04/2019 21:23:06|       loc0|          28|\n",
            "+-------------------+-----------+------------+\n",
            "only showing top 20 rows\n",
            "\n"
          ]
        }
      ]
    },
    {
      "cell_type": "code",
      "source": [
        "# this checks how many rows we have in a dataframe\n",
        "df1.count()"
      ],
      "metadata": {
        "colab": {
          "base_uri": "https://localhost:8080/"
        },
        "id": "uSg9eXwaVtFc",
        "outputId": "01598475-3333-4f01-c666-65cab57bd11d"
      },
      "execution_count": 12,
      "outputs": [
        {
          "output_type": "execute_result",
          "data": {
            "text/plain": [
              "500000"
            ]
          },
          "metadata": {},
          "execution_count": 12
        }
      ]
    },
    {
      "cell_type": "code",
      "source": [
        "file_path_no_header = '/content/utilization.csv'\n",
        "df2 = spark.read.format('csv').option('header','false')\\\n",
        "                                .option(\"||inferschema\",\"true\")\\\n",
        "                                .load(file_path_no_header)"
      ],
      "metadata": {
        "id": "slkVxn6cWakn"
      },
      "execution_count": 13,
      "outputs": []
    },
    {
      "cell_type": "code",
      "source": [
        "df2.count()"
      ],
      "metadata": {
        "colab": {
          "base_uri": "https://localhost:8080/"
        },
        "id": "Rtg8GliLahEg",
        "outputId": "decc8e73-598b-4d35-a84c-1bbbe902d4a4"
      },
      "execution_count": 14,
      "outputs": [
        {
          "output_type": "execute_result",
          "data": {
            "text/plain": [
              "500000"
            ]
          },
          "metadata": {},
          "execution_count": 14
        }
      ]
    },
    {
      "cell_type": "code",
      "source": [
        "df2.head(10)"
      ],
      "metadata": {
        "colab": {
          "base_uri": "https://localhost:8080/"
        },
        "id": "_WHhS0aBcWAT",
        "outputId": "4e908065-3107-4ea3-a4b1-1a668e32871f"
      },
      "execution_count": 15,
      "outputs": [
        {
          "output_type": "execute_result",
          "data": {
            "text/plain": [
              "[Row(_c0='03/05/2019 08:06:14', _c1='100', _c2='0.57', _c3='0.51', _c4='47'),\n",
              " Row(_c0='03/05/2019 08:11:14', _c1='100', _c2='0.47', _c3='0.62', _c4='43'),\n",
              " Row(_c0='03/05/2019 08:16:14', _c1='100', _c2='0.56', _c3='0.57', _c4='62'),\n",
              " Row(_c0='03/05/2019 08:21:14', _c1='100', _c2='0.57', _c3='0.56', _c4='50'),\n",
              " Row(_c0='03/05/2019 08:26:14', _c1='100', _c2='0.35', _c3='0.46', _c4='43'),\n",
              " Row(_c0='03/05/2019 08:31:14', _c1='100', _c2='0.41', _c3='0.58', _c4='48'),\n",
              " Row(_c0='03/05/2019 08:36:14', _c1='100', _c2='0.57', _c3='0.35', _c4='58'),\n",
              " Row(_c0='03/05/2019 08:41:14', _c1='100', _c2='0.41', _c3='0.40', _c4='58'),\n",
              " Row(_c0='03/05/2019 08:46:14', _c1='100', _c2='0.53', _c3='0.35', _c4='62'),\n",
              " Row(_c0='03/05/2019 08:51:14', _c1='100', _c2='0.51', _c3='0.60', _c4='45')]"
            ]
          },
          "metadata": {},
          "execution_count": 15
        }
      ]
    },
    {
      "cell_type": "code",
      "source": [
        "df2 = df2.withColumnRenamed(\"_c0\",\"events_datatime\") \\\n",
        "         .withColumnRenamed(\"_c1\",\"server_id\") \\\n",
        "         .withColumnRenamed(\"_c2\", \"cpu_utilization\")\\\n",
        "         .withColumnRenamed(\"_c3\",\"free_memory\")\\\n",
        "         .withColumnRenamed(\"_c4\",\"session_count\")"
      ],
      "metadata": {
        "id": "YeRB8TzkcZS8"
      },
      "execution_count": 18,
      "outputs": []
    },
    {
      "cell_type": "code",
      "source": [
        "df2.show()"
      ],
      "metadata": {
        "colab": {
          "base_uri": "https://localhost:8080/"
        },
        "id": "DDiAyG-5SPY4",
        "outputId": "1c55c7a3-d069-48d3-9003-2418bff79128"
      },
      "execution_count": 19,
      "outputs": [
        {
          "output_type": "stream",
          "name": "stdout",
          "text": [
            "+-------------------+---------+---------------+-----------+-------------+\n",
            "|    events_datatime|server_id|cpu_utilization|free_memory|session_count|\n",
            "+-------------------+---------+---------------+-----------+-------------+\n",
            "|03/05/2019 08:06:14|      100|           0.57|       0.51|           47|\n",
            "|03/05/2019 08:11:14|      100|           0.47|       0.62|           43|\n",
            "|03/05/2019 08:16:14|      100|           0.56|       0.57|           62|\n",
            "|03/05/2019 08:21:14|      100|           0.57|       0.56|           50|\n",
            "|03/05/2019 08:26:14|      100|           0.35|       0.46|           43|\n",
            "|03/05/2019 08:31:14|      100|           0.41|       0.58|           48|\n",
            "|03/05/2019 08:36:14|      100|           0.57|       0.35|           58|\n",
            "|03/05/2019 08:41:14|      100|           0.41|       0.40|           58|\n",
            "|03/05/2019 08:46:14|      100|           0.53|       0.35|           62|\n",
            "|03/05/2019 08:51:14|      100|           0.51|       0.60|           45|\n",
            "|03/05/2019 08:56:14|      100|           0.32|       0.37|           47|\n",
            "|03/05/2019 09:01:14|      100|           0.62|       0.59|           60|\n",
            "|03/05/2019 09:06:14|      100|           0.66|       0.72|           57|\n",
            "|03/05/2019 09:11:14|      100|           0.54|       0.54|           44|\n",
            "|03/05/2019 09:16:14|      100|           0.29|       0.40|           47|\n",
            "|03/05/2019 09:21:14|      100|           0.43|       0.68|           66|\n",
            "|03/05/2019 09:26:14|      100|           0.49|       0.66|           65|\n",
            "|03/05/2019 09:31:14|      100|           0.64|       0.55|           66|\n",
            "|03/05/2019 09:36:14|      100|           0.42|       0.60|           42|\n",
            "|03/05/2019 09:41:14|      100|           0.55|       0.59|           63|\n",
            "+-------------------+---------+---------------+-----------+-------------+\n",
            "only showing top 20 rows\n",
            "\n"
          ]
        }
      ]
    },
    {
      "cell_type": "code",
      "source": [],
      "metadata": {
        "id": "XT-8OcgXS8z5"
      },
      "execution_count": null,
      "outputs": []
    }
  ]
}