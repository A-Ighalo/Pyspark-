{
  "nbformat": 4,
  "nbformat_minor": 0,
  "metadata": {
    "colab": {
      "provenance": []
    },
    "kernelspec": {
      "name": "python3",
      "display_name": "Python 3"
    },
    "language_info": {
      "name": "python"
    }
  },
  "cells": [
    {
      "cell_type": "markdown",
      "source": [
        "# Exploratory Analysis Using Pyspark"
      ],
      "metadata": {
        "id": "w1kRaWllM1Cw"
      }
    },
    {
      "cell_type": "code",
      "execution_count": 1,
      "metadata": {
        "id": "WdjYBoEsHb2w"
      },
      "outputs": [],
      "source": [
        "from pyspark.sql import SparkSession\n",
        "\n",
        "spark = SparkSession.builder.appName(\"Exploratory Analysis\").getOrCreate()"
      ]
    },
    {
      "cell_type": "code",
      "source": [
        "dataset = \"/content/utilization.json\"\n",
        "df = spark.read.format(\"json\").load(dataset)"
      ],
      "metadata": {
        "id": "UJ2AyvEOHxpX"
      },
      "execution_count": 4,
      "outputs": []
    },
    {
      "cell_type": "code",
      "source": [
        "df.show(10)"
      ],
      "metadata": {
        "colab": {
          "base_uri": "https://localhost:8080/"
        },
        "id": "V7GYOdGNH6WJ",
        "outputId": "f5cdf6b9-d662-4602-f288-e2ec53a72f0c"
      },
      "execution_count": 5,
      "outputs": [
        {
          "output_type": "stream",
          "name": "stdout",
          "text": [
            "+---------------+-------------------+-----------+---------+-------------+\n",
            "|cpu_utilization|     event_datetime|free_memory|server_id|session_count|\n",
            "+---------------+-------------------+-----------+---------+-------------+\n",
            "|           0.57|03/05/2019 08:06:14|       0.51|      100|           47|\n",
            "|           0.47|03/05/2019 08:11:14|       0.62|      100|           43|\n",
            "|           0.56|03/05/2019 08:16:14|       0.57|      100|           62|\n",
            "|           0.57|03/05/2019 08:21:14|       0.56|      100|           50|\n",
            "|           0.35|03/05/2019 08:26:14|       0.46|      100|           43|\n",
            "|           0.41|03/05/2019 08:31:14|       0.58|      100|           48|\n",
            "|           0.57|03/05/2019 08:36:14|       0.35|      100|           58|\n",
            "|           0.41|03/05/2019 08:41:14|        0.4|      100|           58|\n",
            "|           0.53|03/05/2019 08:46:14|       0.35|      100|           62|\n",
            "|           0.51|03/05/2019 08:51:14|        0.6|      100|           45|\n",
            "+---------------+-------------------+-----------+---------+-------------+\n",
            "only showing top 10 rows\n",
            "\n"
          ]
        }
      ]
    },
    {
      "cell_type": "code",
      "source": [
        "df.createOrReplaceTempView(\"utilization\")"
      ],
      "metadata": {
        "id": "8whbl8BbIi2y"
      },
      "execution_count": 7,
      "outputs": []
    },
    {
      "cell_type": "code",
      "source": [
        "df.count()"
      ],
      "metadata": {
        "colab": {
          "base_uri": "https://localhost:8080/"
        },
        "id": "9s9fqD4CI4Vu",
        "outputId": "cb09aaae-2246-4868-c23e-87cbc0a8b97f"
      },
      "execution_count": 8,
      "outputs": [
        {
          "output_type": "execute_result",
          "data": {
            "text/plain": [
              "500000"
            ]
          },
          "metadata": {},
          "execution_count": 8
        }
      ]
    },
    {
      "cell_type": "code",
      "source": [
        "#Provides a summary of the dataframe\n",
        "df.describe().show()"
      ],
      "metadata": {
        "colab": {
          "base_uri": "https://localhost:8080/"
        },
        "id": "t18W-X8fJAwW",
        "outputId": "20f97edc-c990-408b-c7ac-20d52c3c77c9"
      },
      "execution_count": 10,
      "outputs": [
        {
          "output_type": "stream",
          "name": "stdout",
          "text": [
            "+-------+------------------+-------------------+-------------------+------------------+-----------------+\n",
            "|summary|   cpu_utilization|     event_datetime|        free_memory|         server_id|    session_count|\n",
            "+-------+------------------+-------------------+-------------------+------------------+-----------------+\n",
            "|  count|            500000|             500000|             500000|            500000|           500000|\n",
            "|   mean|0.6205177399999616|               NULL|0.37912809999999375|             124.5|         69.59616|\n",
            "| stddev|0.1587517387291305|               NULL|0.15830931278376148|14.430884120552617|14.85067669635284|\n",
            "|    min|              0.22|03/05/2019 08:06:14|                0.0|               100|               32|\n",
            "|    max|               1.0|04/09/2019 01:22:46|               0.78|               149|              105|\n",
            "+-------+------------------+-------------------+-------------------+------------------+-----------------+\n",
            "\n"
          ]
        }
      ]
    },
    {
      "cell_type": "code",
      "source": [
        "#Evaluate the correlation between variables\n",
        "# 1 means they correlate 0 means they don't\n",
        "df.stat.corr(\"cpu_utilization\",\"free_memory\")"
      ],
      "metadata": {
        "colab": {
          "base_uri": "https://localhost:8080/"
        },
        "id": "endM1A5BJI02",
        "outputId": "361a6722-847b-482b-e9d0-da695b139639"
      },
      "execution_count": 12,
      "outputs": [
        {
          "output_type": "execute_result",
          "data": {
            "text/plain": [
              "-0.47047715730807493"
            ]
          },
          "metadata": {},
          "execution_count": 12
        }
      ]
    },
    {
      "cell_type": "code",
      "source": [
        "df.stat.corr(\"session_count\",\"free_memory\")"
      ],
      "metadata": {
        "colab": {
          "base_uri": "https://localhost:8080/"
        },
        "id": "j-zCRs8vKA3v",
        "outputId": "f56f88ab-d3a4-4460-cd53-c110fc8680ab"
      },
      "execution_count": 13,
      "outputs": [
        {
          "output_type": "execute_result",
          "data": {
            "text/plain": [
              "-0.5008320848876711"
            ]
          },
          "metadata": {},
          "execution_count": 13
        }
      ]
    },
    {
      "cell_type": "code",
      "source": [
        "#the most frequent occuring values\n",
        "df.stat.freqItems((\"server_id\",\"session_count\")).show()"
      ],
      "metadata": {
        "colab": {
          "base_uri": "https://localhost:8080/"
        },
        "id": "-8tnCvIhKymf",
        "outputId": "566c3fce-afd5-45cf-fb0d-b408a49e82e7"
      },
      "execution_count": 14,
      "outputs": [
        {
          "output_type": "stream",
          "name": "stdout",
          "text": [
            "+--------------------+-----------------------+\n",
            "| server_id_freqItems|session_count_freqItems|\n",
            "+--------------------+-----------------------+\n",
            "|[146, 137, 101, 1...|   [92, 101, 83, 104...|\n",
            "+--------------------+-----------------------+\n",
            "\n"
          ]
        }
      ]
    },
    {
      "cell_type": "code",
      "source": [
        "df_sample = df.sample(fraction = 0.05,withReplacement = False)"
      ],
      "metadata": {
        "id": "Up0gPz7fLUUd"
      },
      "execution_count": 17,
      "outputs": []
    },
    {
      "cell_type": "code",
      "source": [
        "df_sample.count()"
      ],
      "metadata": {
        "colab": {
          "base_uri": "https://localhost:8080/"
        },
        "id": "9ihbbQA6Ldgm",
        "outputId": "451269fb-9590-4c5f-860b-4d3975dfb211"
      },
      "execution_count": 18,
      "outputs": [
        {
          "output_type": "execute_result",
          "data": {
            "text/plain": [
              "25248"
            ]
          },
          "metadata": {},
          "execution_count": 18
        }
      ]
    },
    {
      "cell_type": "markdown",
      "source": [
        "# Exploratory Analysis Using Spark SQL"
      ],
      "metadata": {
        "id": "GjnuKu0CMssR"
      }
    },
    {
      "cell_type": "code",
      "source": [
        "spark.sql(\"SELECT min(cpu_utilization), max(cpu_utilization), stddev(cpu_utilization) FROM utilization\").show()"
      ],
      "metadata": {
        "colab": {
          "base_uri": "https://localhost:8080/"
        },
        "id": "MbZzWZSVMlOX",
        "outputId": "83ece011-7c5a-4203-bef0-dada24b3acac"
      },
      "execution_count": 19,
      "outputs": [
        {
          "output_type": "stream",
          "name": "stdout",
          "text": [
            "+--------------------+--------------------+-----------------------+\n",
            "|min(cpu_utilization)|max(cpu_utilization)|stddev(cpu_utilization)|\n",
            "+--------------------+--------------------+-----------------------+\n",
            "|                0.22|                 1.0|     0.1587517387291305|\n",
            "+--------------------+--------------------+-----------------------+\n",
            "\n"
          ]
        }
      ]
    },
    {
      "cell_type": "code",
      "source": [
        "spark.sql(\"SELECT server_id, min(cpu_utilization),max(cpu_utilization), stddev(cpu_utilization)\\\n",
        "          FROM utilization \\\n",
        "          GROUP BY server_id\").show()"
      ],
      "metadata": {
        "colab": {
          "base_uri": "https://localhost:8080/"
        },
        "id": "yGc5JF82Nksq",
        "outputId": "8d2900ba-ec00-4cf8-e1ca-51184463ff27"
      },
      "execution_count": 22,
      "outputs": [
        {
          "output_type": "stream",
          "name": "stdout",
          "text": [
            "+---------+--------------------+--------------------+-----------------------+\n",
            "|server_id|min(cpu_utilization)|max(cpu_utilization)|stddev(cpu_utilization)|\n",
            "+---------+--------------------+--------------------+-----------------------+\n",
            "|      112|                0.52|                0.92|    0.11528867845082576|\n",
            "|      113|                0.58|                0.98|    0.11544345150353694|\n",
            "|      126|                0.48|                0.88|    0.11542612970702058|\n",
            "|      110|                0.35|                0.75|    0.11533251724450215|\n",
            "|      119|                0.22|                0.62|    0.11516031929842008|\n",
            "|      116|                 0.3|                 0.7|    0.11506079722349302|\n",
            "|      124|                0.24|                0.64|    0.11579377614906383|\n",
            "|      107|                0.45|                0.85|    0.11597417369783877|\n",
            "|      103|                0.56|                0.96|    0.11617507884178278|\n",
            "|      114|                0.33|                0.73|    0.11510268816097273|\n",
            "|      115|                0.44|                0.84|    0.11569664615014985|\n",
            "|      104|                0.51|                0.91|    0.11521679513850511|\n",
            "|      120|                0.35|                0.75|    0.11586355920838642|\n",
            "|      106|                0.22|                0.62|    0.11531539914568233|\n",
            "|      111|                0.36|                0.76|    0.11530221569464506|\n",
            "|      100|                0.27|                0.67|     0.1152264191787964|\n",
            "|      105|                0.29|                0.69|    0.11510721467869486|\n",
            "|      108|                0.55|                0.95|    0.11563100171171926|\n",
            "|      123|                0.53|                0.93|     0.1150893411904229|\n",
            "|      101|                 0.6|                 1.0|    0.11651726263197697|\n",
            "+---------+--------------------+--------------------+-----------------------+\n",
            "only showing top 20 rows\n",
            "\n"
          ]
        }
      ]
    },
    {
      "cell_type": "code",
      "source": [
        "spark.sql(\"SELECT server_id, FLOOR(cpu_utilization *100/10) bucket FROM utilization\").show()"
      ],
      "metadata": {
        "colab": {
          "base_uri": "https://localhost:8080/"
        },
        "id": "IJsjwxfxOEOf",
        "outputId": "af9e85c4-fe47-4d87-8fc6-34c288ddfe30"
      },
      "execution_count": 23,
      "outputs": [
        {
          "output_type": "stream",
          "name": "stdout",
          "text": [
            "+---------+------+\n",
            "|server_id|bucket|\n",
            "+---------+------+\n",
            "|      100|     5|\n",
            "|      100|     4|\n",
            "|      100|     5|\n",
            "|      100|     5|\n",
            "|      100|     3|\n",
            "|      100|     4|\n",
            "|      100|     5|\n",
            "|      100|     4|\n",
            "|      100|     5|\n",
            "|      100|     5|\n",
            "|      100|     3|\n",
            "|      100|     6|\n",
            "|      100|     6|\n",
            "|      100|     5|\n",
            "|      100|     2|\n",
            "|      100|     4|\n",
            "|      100|     4|\n",
            "|      100|     6|\n",
            "|      100|     4|\n",
            "|      100|     5|\n",
            "+---------+------+\n",
            "only showing top 20 rows\n",
            "\n"
          ]
        }
      ]
    },
    {
      "cell_type": "code",
      "source": [
        "spark.sql(\"SELECT count(*), FLOOR(cpu_utilization *100/10) bucket \\\n",
        "          FROM utilization \\\n",
        "          GROUP BY bucket \\\n",
        "          ORDER BY bucket\").show()"
      ],
      "metadata": {
        "colab": {
          "base_uri": "https://localhost:8080/"
        },
        "id": "n9igjTEzPGoH",
        "outputId": "6f7f740d-73dc-4e94-953d-8e7ec120d891"
      },
      "execution_count": 25,
      "outputs": [
        {
          "output_type": "stream",
          "name": "stdout",
          "text": [
            "+--------+------+\n",
            "|count(1)|bucket|\n",
            "+--------+------+\n",
            "|    8186|     2|\n",
            "|   37029|     3|\n",
            "|   68046|     4|\n",
            "|  104910|     5|\n",
            "|  116725|     6|\n",
            "|   88242|     7|\n",
            "|   56598|     8|\n",
            "|   20207|     9|\n",
            "|      57|    10|\n",
            "+--------+------+\n",
            "\n"
          ]
        }
      ]
    }
  ]
}