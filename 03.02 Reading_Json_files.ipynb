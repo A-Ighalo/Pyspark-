{
  "nbformat": 4,
  "nbformat_minor": 0,
  "metadata": {
    "colab": {
      "provenance": []
    },
    "kernelspec": {
      "name": "python3",
      "display_name": "Python 3"
    },
    "language_info": {
      "name": "python"
    }
  },
  "cells": [
    {
      "cell_type": "code",
      "execution_count": null,
      "metadata": {
        "id": "ZyLerbmdMKcF"
      },
      "outputs": [],
      "source": [
        "from pyspark.sql import SparkSession"
      ]
    },
    {
      "cell_type": "code",
      "source": [
        "spark = SparkSession.builder.getOrCreate()"
      ],
      "metadata": {
        "id": "vxRicXUwYQWZ"
      },
      "execution_count": null,
      "outputs": []
    },
    {
      "cell_type": "code",
      "source": [
        "file_path = '/content/utilization.json'\n",
        "df = spark.read.json(file_path)"
      ],
      "metadata": {
        "id": "sgfwn9tmYZee"
      },
      "execution_count": null,
      "outputs": []
    },
    {
      "cell_type": "code",
      "source": [
        "#count the number of rows in the dataset\n",
        "df.count()"
      ],
      "metadata": {
        "colab": {
          "base_uri": "https://localhost:8080/"
        },
        "id": "5-QqhSbAYnZQ",
        "outputId": "87e420b3-57aa-4bfc-f6d6-c4c31bbe3915"
      },
      "execution_count": null,
      "outputs": [
        {
          "output_type": "execute_result",
          "data": {
            "text/plain": [
              "500000"
            ]
          },
          "metadata": {},
          "execution_count": 8
        }
      ]
    },
    {
      "cell_type": "code",
      "source": [
        "df.show()"
      ],
      "metadata": {
        "colab": {
          "base_uri": "https://localhost:8080/"
        },
        "id": "UzJP_67mY1Mv",
        "outputId": "77d9ecde-d971-496a-c33b-0975e6a21b7f"
      },
      "execution_count": null,
      "outputs": [
        {
          "output_type": "stream",
          "name": "stdout",
          "text": [
            "+---------------+-------------------+-----------+---------+-------------+\n",
            "|cpu_utilization|     event_datetime|free_memory|server_id|session_count|\n",
            "+---------------+-------------------+-----------+---------+-------------+\n",
            "|           0.57|03/05/2019 08:06:14|       0.51|      100|           47|\n",
            "|           0.47|03/05/2019 08:11:14|       0.62|      100|           43|\n",
            "|           0.56|03/05/2019 08:16:14|       0.57|      100|           62|\n",
            "|           0.57|03/05/2019 08:21:14|       0.56|      100|           50|\n",
            "|           0.35|03/05/2019 08:26:14|       0.46|      100|           43|\n",
            "|           0.41|03/05/2019 08:31:14|       0.58|      100|           48|\n",
            "|           0.57|03/05/2019 08:36:14|       0.35|      100|           58|\n",
            "|           0.41|03/05/2019 08:41:14|        0.4|      100|           58|\n",
            "|           0.53|03/05/2019 08:46:14|       0.35|      100|           62|\n",
            "|           0.51|03/05/2019 08:51:14|        0.6|      100|           45|\n",
            "|           0.32|03/05/2019 08:56:14|       0.37|      100|           47|\n",
            "|           0.62|03/05/2019 09:01:14|       0.59|      100|           60|\n",
            "|           0.66|03/05/2019 09:06:14|       0.72|      100|           57|\n",
            "|           0.54|03/05/2019 09:11:14|       0.54|      100|           44|\n",
            "|           0.29|03/05/2019 09:16:14|        0.4|      100|           47|\n",
            "|           0.43|03/05/2019 09:21:14|       0.68|      100|           66|\n",
            "|           0.49|03/05/2019 09:26:14|       0.66|      100|           65|\n",
            "|           0.64|03/05/2019 09:31:14|       0.55|      100|           66|\n",
            "|           0.42|03/05/2019 09:36:14|        0.6|      100|           42|\n",
            "|           0.55|03/05/2019 09:41:14|       0.59|      100|           63|\n",
            "+---------------+-------------------+-----------+---------+-------------+\n",
            "only showing top 20 rows\n",
            "\n"
          ]
        }
      ]
    },
    {
      "cell_type": "markdown",
      "source": [
        "# Basic DataFrame Operations"
      ],
      "metadata": {
        "id": "5xTjr1AKZ7ya"
      }
    },
    {
      "cell_type": "code",
      "source": [
        "df.columns"
      ],
      "metadata": {
        "colab": {
          "base_uri": "https://localhost:8080/"
        },
        "id": "ybFwztjnaDqC",
        "outputId": "5501e828-75fb-4865-f574-8f16964cc0de"
      },
      "execution_count": null,
      "outputs": [
        {
          "output_type": "execute_result",
          "data": {
            "text/plain": [
              "['cpu_utilization',\n",
              " 'event_datetime',\n",
              " 'free_memory',\n",
              " 'server_id',\n",
              " 'session_count']"
            ]
          },
          "metadata": {},
          "execution_count": 10
        }
      ]
    },
    {
      "cell_type": "code",
      "source": [
        "# sample the dataset top work with subsets of your dataset.\n",
        "#syntax sample(withReplacement, fraction, )\n",
        "df_sample = df.sample(False,fraction = 0.1,)"
      ],
      "metadata": {
        "id": "4XRls643aPh8"
      },
      "execution_count": null,
      "outputs": []
    },
    {
      "cell_type": "code",
      "source": [
        "df_sample.show()"
      ],
      "metadata": {
        "colab": {
          "base_uri": "https://localhost:8080/"
        },
        "id": "tmSR5bDwgcf-",
        "outputId": "0569f7d1-b9f3-4800-d377-89144b21d2af"
      },
      "execution_count": null,
      "outputs": [
        {
          "output_type": "stream",
          "name": "stdout",
          "text": [
            "+---------------+-------------------+-----------+---------+-------------+\n",
            "|cpu_utilization|     event_datetime|free_memory|server_id|session_count|\n",
            "+---------------+-------------------+-----------+---------+-------------+\n",
            "|           0.66|03/05/2019 09:06:14|       0.72|      100|           57|\n",
            "|            0.4|03/05/2019 10:21:14|       0.55|      100|           52|\n",
            "|           0.67|03/05/2019 10:56:14|       0.54|      100|           57|\n",
            "|            0.5|03/05/2019 12:41:14|       0.38|      100|           44|\n",
            "|           0.56|03/05/2019 13:46:14|       0.42|      100|           49|\n",
            "|           0.39|03/05/2019 15:01:14|       0.52|      100|           48|\n",
            "|           0.54|03/05/2019 16:11:14|       0.37|      100|           59|\n",
            "|           0.33|03/05/2019 16:16:14|       0.49|      100|           52|\n",
            "|           0.29|03/05/2019 16:21:14|       0.53|      100|           43|\n",
            "|           0.54|03/05/2019 16:31:14|       0.68|      100|           61|\n",
            "|           0.34|03/05/2019 17:26:14|       0.61|      100|           52|\n",
            "|           0.45|03/05/2019 17:36:14|       0.33|      100|           38|\n",
            "|           0.61|03/05/2019 19:01:14|       0.45|      100|           38|\n",
            "|           0.37|03/05/2019 20:06:14|       0.55|      100|           55|\n",
            "|           0.66|03/05/2019 20:41:14|       0.64|      100|           66|\n",
            "|            0.4|03/05/2019 21:51:14|       0.57|      100|           40|\n",
            "|           0.32|03/05/2019 22:16:14|       0.42|      100|           60|\n",
            "|           0.48|03/05/2019 23:41:14|       0.48|      100|           47|\n",
            "|           0.27|03/06/2019 00:26:14|       0.67|      100|           60|\n",
            "|           0.54|03/06/2019 01:51:14|       0.46|      100|           50|\n",
            "+---------------+-------------------+-----------+---------+-------------+\n",
            "only showing top 20 rows\n",
            "\n"
          ]
        }
      ]
    },
    {
      "cell_type": "code",
      "source": [
        "#sort by eventdatetime\n",
        "\n",
        "df_sort = df_sample.sort(\"event_datetime\")\n",
        "df_sort.show()\n"
      ],
      "metadata": {
        "colab": {
          "base_uri": "https://localhost:8080/"
        },
        "id": "pr2-bi7ughzr",
        "outputId": "92a7adf8-dbb6-4737-f672-d1ff14600915"
      },
      "execution_count": null,
      "outputs": [
        {
          "output_type": "stream",
          "name": "stdout",
          "text": [
            "+---------------+-------------------+-----------+---------+-------------+\n",
            "|cpu_utilization|     event_datetime|free_memory|server_id|session_count|\n",
            "+---------------+-------------------+-----------+---------+-------------+\n",
            "|           0.64|03/05/2019 08:06:26|       0.55|      107|           56|\n",
            "|           0.69|03/05/2019 08:06:36|       0.38|      113|           71|\n",
            "|           0.71|03/05/2019 08:06:43|       0.61|      117|           60|\n",
            "|           0.42|03/05/2019 08:06:56|       0.37|      125|           58|\n",
            "|           0.81|03/05/2019 08:07:12|       0.15|      133|           78|\n",
            "|           0.69|03/05/2019 08:07:28|       0.24|      141|           67|\n",
            "|           0.76|03/05/2019 08:11:19|       0.12|      103|           81|\n",
            "|           0.32|03/05/2019 08:11:24|       0.56|      106|           59|\n",
            "|           0.78|03/05/2019 08:11:34|       0.14|      112|           83|\n",
            "|           0.95|03/05/2019 08:12:12|       0.28|      133|           90|\n",
            "|           0.34|03/05/2019 08:12:13|       0.64|      134|           73|\n",
            "|           0.33|03/05/2019 08:12:39|       0.34|      147|           43|\n",
            "|            0.9|03/05/2019 08:12:44|       0.34|      149|           85|\n",
            "|           0.55|03/05/2019 08:16:31|       0.36|      110|           78|\n",
            "|           0.53|03/05/2019 08:16:46|       0.52|      119|           57|\n",
            "|           0.89|03/05/2019 08:16:50|       0.49|      121|           90|\n",
            "|           0.42|03/05/2019 08:17:01|       0.44|      128|           50|\n",
            "|           0.75|03/05/2019 08:17:12|       0.17|      133|           78|\n",
            "|           0.48|03/05/2019 08:17:25|       0.36|      140|           62|\n",
            "|           0.48|03/05/2019 08:17:28|       0.31|      141|           68|\n",
            "+---------------+-------------------+-----------+---------+-------------+\n",
            "only showing top 20 rows\n",
            "\n"
          ]
        }
      ]
    }
  ]
}