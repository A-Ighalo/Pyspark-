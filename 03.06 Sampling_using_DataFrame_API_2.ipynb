{
  "nbformat": 4,
  "nbformat_minor": 0,
  "metadata": {
    "colab": {
      "provenance": []
    },
    "kernelspec": {
      "name": "python3",
      "display_name": "Python 3"
    },
    "language_info": {
      "name": "python"
    }
  },
  "cells": [
    {
      "cell_type": "markdown",
      "source": [
        "# Import requirements and load the dataset"
      ],
      "metadata": {
        "id": "B-3ID1L99THS"
      }
    },
    {
      "cell_type": "code",
      "execution_count": 3,
      "metadata": {
        "id": "sio1G5cg4Odp"
      },
      "outputs": [],
      "source": [
        "from pyspark.sql import SparkSession\n",
        "spark = SparkSession.builder.appName(\"sampling with DF API\").getOrCreate()"
      ]
    },
    {
      "cell_type": "code",
      "source": [
        "file_path = \"/content/location_temp.csv\"\n",
        "df = spark.read.format(\"csv\").option(\"header\",\"True\").load(file_path)"
      ],
      "metadata": {
        "id": "8D2e18bY4XYj"
      },
      "execution_count": 5,
      "outputs": []
    },
    {
      "cell_type": "code",
      "source": [
        "df.show(10)\n"
      ],
      "metadata": {
        "colab": {
          "base_uri": "https://localhost:8080/"
        },
        "id": "-9TPlufN45sz",
        "outputId": "3b977ec5-d341-468e-c072-75b55b80268b"
      },
      "execution_count": 6,
      "outputs": [
        {
          "output_type": "stream",
          "name": "stdout",
          "text": [
            "+-------------------+-----------+------------+\n",
            "|         event_date|location_id|temp_celcius|\n",
            "+-------------------+-----------+------------+\n",
            "|03/04/2019 19:48:06|       loc0|          29|\n",
            "|03/04/2019 19:53:06|       loc0|          27|\n",
            "|03/04/2019 19:58:06|       loc0|          28|\n",
            "|03/04/2019 20:03:06|       loc0|          30|\n",
            "|03/04/2019 20:08:06|       loc0|          27|\n",
            "|03/04/2019 20:13:06|       loc0|          27|\n",
            "|03/04/2019 20:18:06|       loc0|          27|\n",
            "|03/04/2019 20:23:06|       loc0|          29|\n",
            "|03/04/2019 20:28:06|       loc0|          32|\n",
            "|03/04/2019 20:33:06|       loc0|          35|\n",
            "+-------------------+-----------+------------+\n",
            "only showing top 10 rows\n",
            "\n"
          ]
        }
      ]
    },
    {
      "cell_type": "code",
      "source": [
        "df.count()"
      ],
      "metadata": {
        "colab": {
          "base_uri": "https://localhost:8080/"
        },
        "id": "ycq8YjQO5DQU",
        "outputId": "9c6062c7-4c31-4c65-931d-d3e5037ea0a8"
      },
      "execution_count": 7,
      "outputs": [
        {
          "output_type": "execute_result",
          "data": {
            "text/plain": [
              "500000"
            ]
          },
          "metadata": {},
          "execution_count": 7
        }
      ]
    },
    {
      "cell_type": "markdown",
      "source": [
        "# Working with samples\n",
        "\n"
      ],
      "metadata": {
        "id": "WLvaa2pP9cTI"
      }
    },
    {
      "cell_type": "code",
      "source": [
        "df1_sample = df.sample(fraction = 0.1, withReplacement = False)"
      ],
      "metadata": {
        "id": "u-eE7uio5RsA"
      },
      "execution_count": 8,
      "outputs": []
    },
    {
      "cell_type": "code",
      "source": [
        "#the sample function does not return the eact fraction specified\n",
        "df1_sample.count()"
      ],
      "metadata": {
        "colab": {
          "base_uri": "https://localhost:8080/"
        },
        "id": "lxUUjcYY5dsC",
        "outputId": "c40e00d4-b537-4e93-f485-2f773938a3c0"
      },
      "execution_count": 11,
      "outputs": [
        {
          "output_type": "execute_result",
          "data": {
            "text/plain": [
              "50301"
            ]
          },
          "metadata": {},
          "execution_count": 11
        }
      ]
    },
    {
      "cell_type": "code",
      "source": [
        "# the aggregation function is in key value pairs .agg({\"columnName\":\"aggregation\"})\n",
        "df1_sample.groupBy(\"location_id\").agg({\"temp_celcius\":\"mean\"}).show()"
      ],
      "metadata": {
        "colab": {
          "base_uri": "https://localhost:8080/"
        },
        "id": "3fWyzilY5mmc",
        "outputId": "3eb0db77-20af-4651-a06d-a2a461c1c99a"
      },
      "execution_count": 12,
      "outputs": [
        {
          "output_type": "stream",
          "name": "stdout",
          "text": [
            "+-----------+------------------+\n",
            "|location_id| avg(temp_celcius)|\n",
            "+-----------+------------------+\n",
            "|     loc196|28.954545454545453|\n",
            "|     loc226|25.198019801980198|\n",
            "|     loc150| 32.03703703703704|\n",
            "|     loc292|29.059405940594058|\n",
            "|     loc311|24.673684210526314|\n",
            "|      loc22|27.872549019607842|\n",
            "|      loc31| 24.98936170212766|\n",
            "|     loc305|27.354545454545455|\n",
            "|      loc82|27.083333333333332|\n",
            "|      loc90|23.194174757281555|\n",
            "|     loc118|             24.25|\n",
            "|     loc195|27.387096774193548|\n",
            "|     loc208|              26.1|\n",
            "|      loc39| 25.19327731092437|\n",
            "|      loc75| 23.25609756097561|\n",
            "|     loc228|27.227272727272727|\n",
            "|     loc203| 26.15740740740741|\n",
            "|     loc193|30.275510204081634|\n",
            "|     loc122| 32.25961538461539|\n",
            "|     loc145| 32.30578512396694|\n",
            "+-----------+------------------+\n",
            "only showing top 20 rows\n",
            "\n"
          ]
        }
      ]
    },
    {
      "cell_type": "code",
      "source": [
        "\n",
        "df1_sample.groupBy(\"location_id\").agg({\"temp_celcius\":\"mean\"}).orderBy(\"location_id\").show(10)"
      ],
      "metadata": {
        "colab": {
          "base_uri": "https://localhost:8080/"
        },
        "id": "RJLZVjPD7nJs",
        "outputId": "9de18389-6255-482e-e95b-58608b744c67"
      },
      "execution_count": 13,
      "outputs": [
        {
          "output_type": "stream",
          "name": "stdout",
          "text": [
            "+-----------+------------------+\n",
            "|location_id| avg(temp_celcius)|\n",
            "+-----------+------------------+\n",
            "|       loc0|29.065934065934066|\n",
            "|       loc1|27.715686274509803|\n",
            "|      loc10|25.389473684210525|\n",
            "|     loc100|27.269565217391303|\n",
            "|     loc101|25.698924731182796|\n",
            "|     loc102|30.121495327102803|\n",
            "|     loc103|24.962962962962962|\n",
            "|     loc104|26.123809523809523|\n",
            "|     loc105|          26.09375|\n",
            "|     loc106|27.189655172413794|\n",
            "+-----------+------------------+\n",
            "only showing top 10 rows\n",
            "\n"
          ]
        }
      ]
    },
    {
      "cell_type": "code",
      "source": [
        "# Smaller samples = more agg variance\n",
        "# Bigger  samples = have less agg variance\n",
        "\n",
        "df.groupBy(\"location_id\").agg({\"temp_celcius\":\"mean\"}).orderBy(\"location_id\").show(10)"
      ],
      "metadata": {
        "colab": {
          "base_uri": "https://localhost:8080/"
        },
        "id": "JveAZOyT8O9l",
        "outputId": "8c4d734b-0cb4-4014-beba-b01b55ffb117"
      },
      "execution_count": 16,
      "outputs": [
        {
          "output_type": "stream",
          "name": "stdout",
          "text": [
            "+-----------+-----------------+\n",
            "|location_id|avg(temp_celcius)|\n",
            "+-----------+-----------------+\n",
            "|       loc0|           29.176|\n",
            "|       loc1|           28.246|\n",
            "|      loc10|           25.337|\n",
            "|     loc100|           27.297|\n",
            "|     loc101|           25.317|\n",
            "|     loc102|           30.327|\n",
            "|     loc103|           25.341|\n",
            "|     loc104|           26.204|\n",
            "|     loc105|           26.217|\n",
            "|     loc106|           27.201|\n",
            "+-----------+-----------------+\n",
            "only showing top 10 rows\n",
            "\n"
          ]
        }
      ]
    }
  ]
}