{
  "nbformat": 4,
  "nbformat_minor": 0,
  "metadata": {
    "colab": {
      "provenance": []
    },
    "kernelspec": {
      "name": "python3",
      "display_name": "Python 3"
    },
    "language_info": {
      "name": "python"
    }
  },
  "cells": [
    {
      "cell_type": "markdown",
      "source": [
        "# Import SparkSession to create and manage a Spark application"
      ],
      "metadata": {
        "id": "AJ7_b1W3AbQW"
      }
    },
    {
      "cell_type": "code",
      "execution_count": 4,
      "metadata": {
        "id": "f7mxat3G_Hr2"
      },
      "outputs": [],
      "source": [
        "from pyspark.sql import SparkSession\n",
        "spark = SparkSession.builder.appName(\"Data Saving using df\").getOrCreate()"
      ]
    },
    {
      "cell_type": "code",
      "source": [
        "file_path = \"/content/location_temp.csv\"\n",
        "df = spark.read.format(\"csv\").option(\"header\",\"true\").load(file_path)"
      ],
      "metadata": {
        "id": "vgy9rp4p_lMX"
      },
      "execution_count": 5,
      "outputs": []
    },
    {
      "cell_type": "code",
      "source": [
        "df.show(10)"
      ],
      "metadata": {
        "colab": {
          "base_uri": "https://localhost:8080/"
        },
        "id": "Gd1T4aUh_y1I",
        "outputId": "e452f3e8-dff0-4eec-f370-29788c2cfc27"
      },
      "execution_count": 6,
      "outputs": [
        {
          "output_type": "stream",
          "name": "stdout",
          "text": [
            "+-------------------+-----------+------------+\n",
            "|         event_date|location_id|temp_celcius|\n",
            "+-------------------+-----------+------------+\n",
            "|03/04/2019 19:48:06|       loc0|          29|\n",
            "|03/04/2019 19:53:06|       loc0|          27|\n",
            "|03/04/2019 19:58:06|       loc0|          28|\n",
            "|03/04/2019 20:03:06|       loc0|          30|\n",
            "|03/04/2019 20:08:06|       loc0|          27|\n",
            "|03/04/2019 20:13:06|       loc0|          27|\n",
            "|03/04/2019 20:18:06|       loc0|          27|\n",
            "|03/04/2019 20:23:06|       loc0|          29|\n",
            "|03/04/2019 20:28:06|       loc0|          32|\n",
            "|03/04/2019 20:33:06|       loc0|          35|\n",
            "+-------------------+-----------+------------+\n",
            "only showing top 10 rows\n",
            "\n"
          ]
        }
      ]
    },
    {
      "cell_type": "code",
      "source": [
        "df.write.csv(\"df.csv\")"
      ],
      "metadata": {
        "id": "yWve5U5nAR58"
      },
      "execution_count": 7,
      "outputs": []
    },
    {
      "cell_type": "code",
      "source": [
        "#writing shell commands\n",
        "#spark breaks files into partitions here they are just 2\n",
        "\n",
        "! ls df.csv  # ls directory"
      ],
      "metadata": {
        "colab": {
          "base_uri": "https://localhost:8080/"
        },
        "id": "XkE2eL_ZBgb1",
        "outputId": "75e575bd-7458-4274-bbb3-dab4f0db1cd9"
      },
      "execution_count": 9,
      "outputs": [
        {
          "output_type": "stream",
          "name": "stdout",
          "text": [
            "part-00000-665de24b-b5a3-4c38-aded-53971253238f-c000.csv  _SUCCESS\n",
            "part-00001-665de24b-b5a3-4c38-aded-53971253238f-c000.csv\n"
          ]
        }
      ]
    },
    {
      "cell_type": "code",
      "source": [
        "#lists the top rows of a file\n",
        "! head df.csv/part-00001-665de24b-b5a3-4c38-aded-53971253238f-c000.csv"
      ],
      "metadata": {
        "colab": {
          "base_uri": "https://localhost:8080/"
        },
        "id": "DcNF3mkgBrQE",
        "outputId": "2cf312ca-e0c6-42d8-f41c-e7e068a3b668"
      },
      "execution_count": 12,
      "outputs": [
        {
          "output_type": "stream",
          "name": "stdout",
          "text": [
            "03/07/2019 09:19:18,loc321,32\n",
            "03/07/2019 09:24:18,loc321,26\n",
            "03/07/2019 09:29:18,loc321,28\n",
            "03/07/2019 09:34:18,loc321,27\n",
            "03/07/2019 09:39:18,loc321,28\n",
            "03/07/2019 09:44:18,loc321,31\n",
            "03/07/2019 09:49:18,loc321,25\n",
            "03/07/2019 09:54:18,loc321,31\n",
            "03/07/2019 09:59:18,loc321,25\n",
            "03/07/2019 10:04:18,loc321,28\n"
          ]
        }
      ]
    },
    {
      "cell_type": "code",
      "source": [
        "# We can also save our file in json format\n",
        "df.write.json(\"df.json\")"
      ],
      "metadata": {
        "id": "zXbhIMNbCJ4F"
      },
      "execution_count": 13,
      "outputs": []
    },
    {
      "cell_type": "code",
      "source": [
        "#checks the content of the df.json directory\n",
        "!ls df.json"
      ],
      "metadata": {
        "colab": {
          "base_uri": "https://localhost:8080/"
        },
        "id": "sH4n7sM-DWNy",
        "outputId": "0565bd42-8c62-4ce6-8c59-46bddb1a5b7e"
      },
      "execution_count": 14,
      "outputs": [
        {
          "output_type": "stream",
          "name": "stdout",
          "text": [
            "part-00000-ae6f3847-4128-48c1-8704-cb7b744dc2e6-c000.json  _SUCCESS\n",
            "part-00001-ae6f3847-4128-48c1-8704-cb7b744dc2e6-c000.json\n"
          ]
        }
      ]
    },
    {
      "cell_type": "code",
      "source": [
        "#Lists the top rows in the json file\n",
        "!head df.json/part-00001-ae6f3847-4128-48c1-8704-cb7b744dc2e6-c000.json"
      ],
      "metadata": {
        "colab": {
          "base_uri": "https://localhost:8080/"
        },
        "id": "ABWRt5rLDaJc",
        "outputId": "1ad153d4-50f0-4940-e9b0-755c8fee42c1"
      },
      "execution_count": 15,
      "outputs": [
        {
          "output_type": "stream",
          "name": "stdout",
          "text": [
            "{\"event_date\":\"03/07/2019 09:19:18\",\"location_id\":\"loc321\",\"temp_celcius\":\"32\"}\n",
            "{\"event_date\":\"03/07/2019 09:24:18\",\"location_id\":\"loc321\",\"temp_celcius\":\"26\"}\n",
            "{\"event_date\":\"03/07/2019 09:29:18\",\"location_id\":\"loc321\",\"temp_celcius\":\"28\"}\n",
            "{\"event_date\":\"03/07/2019 09:34:18\",\"location_id\":\"loc321\",\"temp_celcius\":\"27\"}\n",
            "{\"event_date\":\"03/07/2019 09:39:18\",\"location_id\":\"loc321\",\"temp_celcius\":\"28\"}\n",
            "{\"event_date\":\"03/07/2019 09:44:18\",\"location_id\":\"loc321\",\"temp_celcius\":\"31\"}\n",
            "{\"event_date\":\"03/07/2019 09:49:18\",\"location_id\":\"loc321\",\"temp_celcius\":\"25\"}\n",
            "{\"event_date\":\"03/07/2019 09:54:18\",\"location_id\":\"loc321\",\"temp_celcius\":\"31\"}\n",
            "{\"event_date\":\"03/07/2019 09:59:18\",\"location_id\":\"loc321\",\"temp_celcius\":\"25\"}\n",
            "{\"event_date\":\"03/07/2019 10:04:18\",\"location_id\":\"loc321\",\"temp_celcius\":\"28\"}\n"
          ]
        }
      ]
    }
  ]
}