{
  "nbformat": 4,
  "nbformat_minor": 0,
  "metadata": {
    "colab": {
      "provenance": []
    },
    "kernelspec": {
      "name": "python3",
      "display_name": "Python 3"
    },
    "language_info": {
      "name": "python"
    }
  },
  "cells": [
    {
      "cell_type": "code",
      "execution_count": 29,
      "metadata": {
        "id": "4tNM5p-gKRvl"
      },
      "outputs": [],
      "source": [
        "from pyspark.sql import SparkSession\n",
        "spark = SparkSession.builder.appName(\"Filter DFS Using Sql\").getOrCreate()\n"
      ]
    },
    {
      "cell_type": "code",
      "source": [
        "file_path = \"/content/utilization.json\"\n",
        "df = spark.read.format(\"json\").load(file_path)"
      ],
      "metadata": {
        "id": "OAW-4CiNKkip"
      },
      "execution_count": 30,
      "outputs": []
    },
    {
      "cell_type": "code",
      "source": [
        "df.show(10)"
      ],
      "metadata": {
        "colab": {
          "base_uri": "https://localhost:8080/"
        },
        "id": "_98e-WLgLF3j",
        "outputId": "fc2b63cb-5632-416f-82a0-277c6e70eeea"
      },
      "execution_count": 31,
      "outputs": [
        {
          "output_type": "stream",
          "name": "stdout",
          "text": [
            "+---------------+-------------------+-----------+---------+-------------+\n",
            "|cpu_utilization|     event_datetime|free_memory|server_id|session_count|\n",
            "+---------------+-------------------+-----------+---------+-------------+\n",
            "|           0.57|03/05/2019 08:06:14|       0.51|      100|           47|\n",
            "|           0.47|03/05/2019 08:11:14|       0.62|      100|           43|\n",
            "|           0.56|03/05/2019 08:16:14|       0.57|      100|           62|\n",
            "|           0.57|03/05/2019 08:21:14|       0.56|      100|           50|\n",
            "|           0.35|03/05/2019 08:26:14|       0.46|      100|           43|\n",
            "|           0.41|03/05/2019 08:31:14|       0.58|      100|           48|\n",
            "|           0.57|03/05/2019 08:36:14|       0.35|      100|           58|\n",
            "|           0.41|03/05/2019 08:41:14|        0.4|      100|           58|\n",
            "|           0.53|03/05/2019 08:46:14|       0.35|      100|           62|\n",
            "|           0.51|03/05/2019 08:51:14|        0.6|      100|           45|\n",
            "+---------------+-------------------+-----------+---------+-------------+\n",
            "only showing top 10 rows\n",
            "\n"
          ]
        }
      ]
    },
    {
      "cell_type": "code",
      "source": [
        "#create or replace tempView\n",
        "#Filter using spark sql\n",
        "\n",
        "df.createOrReplaceTempView(\"utilization\")\n"
      ],
      "metadata": {
        "id": "zZ9UDFGuLR1m"
      },
      "execution_count": 32,
      "outputs": []
    },
    {
      "cell_type": "code",
      "source": [
        "#Similar to the sql syntax\n",
        "df_sql = spark.sql(\"SELECT * FROM utilization WHERE server_id = 120\")\n",
        "df_sql.show()"
      ],
      "metadata": {
        "colab": {
          "base_uri": "https://localhost:8080/"
        },
        "id": "3r1KlWgbMGWK",
        "outputId": "2dc4440b-8b1d-4c3c-bd5d-88013a782bbc"
      },
      "execution_count": 33,
      "outputs": [
        {
          "output_type": "stream",
          "name": "stdout",
          "text": [
            "+---------------+-------------------+-----------+---------+-------------+\n",
            "|cpu_utilization|     event_datetime|free_memory|server_id|session_count|\n",
            "+---------------+-------------------+-----------+---------+-------------+\n",
            "|           0.66|03/05/2019 08:06:48|       0.31|      120|           54|\n",
            "|           0.58|03/05/2019 08:11:48|       0.38|      120|           64|\n",
            "|           0.55|03/05/2019 08:16:48|       0.61|      120|           54|\n",
            "|            0.7|03/05/2019 08:21:48|       0.35|      120|           80|\n",
            "|            0.6|03/05/2019 08:26:48|       0.39|      120|           71|\n",
            "|           0.53|03/05/2019 08:31:48|       0.35|      120|           49|\n",
            "|           0.73|03/05/2019 08:36:48|       0.42|      120|           73|\n",
            "|           0.41|03/05/2019 08:41:48|        0.6|      120|           72|\n",
            "|           0.62|03/05/2019 08:46:48|       0.57|      120|           57|\n",
            "|           0.67|03/05/2019 08:51:48|       0.44|      120|           78|\n",
            "|           0.67|03/05/2019 08:56:48|       0.38|      120|           73|\n",
            "|           0.39|03/05/2019 09:01:48|       0.47|      120|           58|\n",
            "|            0.5|03/05/2019 09:06:48|       0.29|      120|           78|\n",
            "|           0.38|03/05/2019 09:11:48|       0.38|      120|           56|\n",
            "|           0.53|03/05/2019 09:16:48|       0.38|      120|           47|\n",
            "|           0.74|03/05/2019 09:21:48|       0.25|      120|           69|\n",
            "|           0.53|03/05/2019 09:26:48|       0.57|      120|           73|\n",
            "|           0.54|03/05/2019 09:31:48|       0.64|      120|           65|\n",
            "|            0.7|03/05/2019 09:36:48|       0.52|      120|           55|\n",
            "|           0.54|03/05/2019 09:41:48|       0.27|      120|           74|\n",
            "+---------------+-------------------+-----------+---------+-------------+\n",
            "only showing top 20 rows\n",
            "\n"
          ]
        }
      ]
    },
    {
      "cell_type": "code",
      "source": [
        "df_sql.count()"
      ],
      "metadata": {
        "colab": {
          "base_uri": "https://localhost:8080/"
        },
        "id": "Ks0j72V3MTOo",
        "outputId": "902c29b9-e69c-4567-fec1-4651623b7e72"
      },
      "execution_count": 34,
      "outputs": [
        {
          "output_type": "execute_result",
          "data": {
            "text/plain": [
              "10000"
            ]
          },
          "metadata": {},
          "execution_count": 34
        }
      ]
    },
    {
      "cell_type": "code",
      "source": [
        "df_sql = spark.sql(\"SELECT server_id,session_count FROM utilization WHERE session_count > 70\")"
      ],
      "metadata": {
        "id": "eFBpc7EgMjDd"
      },
      "execution_count": 35,
      "outputs": []
    },
    {
      "cell_type": "code",
      "source": [
        "df_sql.show()"
      ],
      "metadata": {
        "colab": {
          "base_uri": "https://localhost:8080/"
        },
        "id": "ZOCnrbvzM8Mn",
        "outputId": "22338915-0088-488f-8e23-a4353748d46d"
      },
      "execution_count": 36,
      "outputs": [
        {
          "output_type": "stream",
          "name": "stdout",
          "text": [
            "+---------+-------------+\n",
            "|server_id|session_count|\n",
            "+---------+-------------+\n",
            "|      100|           71|\n",
            "|      100|           71|\n",
            "|      100|           71|\n",
            "|      100|           71|\n",
            "|      100|           72|\n",
            "|      100|           72|\n",
            "|      100|           71|\n",
            "|      100|           71|\n",
            "|      100|           71|\n",
            "|      100|           72|\n",
            "|      100|           71|\n",
            "|      100|           72|\n",
            "|      100|           71|\n",
            "|      100|           71|\n",
            "|      100|           72|\n",
            "|      100|           71|\n",
            "|      100|           72|\n",
            "|      100|           72|\n",
            "|      100|           71|\n",
            "|      100|           71|\n",
            "+---------+-------------+\n",
            "only showing top 20 rows\n",
            "\n"
          ]
        }
      ]
    },
    {
      "cell_type": "code",
      "source": [
        "df_sql.count()"
      ],
      "metadata": {
        "colab": {
          "base_uri": "https://localhost:8080/"
        },
        "id": "gJKnBCOXNEUn",
        "outputId": "bca37846-dc61-4623-847e-dc1e1b3bd7c8"
      },
      "execution_count": 37,
      "outputs": [
        {
          "output_type": "execute_result",
          "data": {
            "text/plain": [
              "239659"
            ]
          },
          "metadata": {},
          "execution_count": 37
        }
      ]
    },
    {
      "cell_type": "code",
      "source": [
        "#We can also make comparisons in the sql commands   AND, > , <\n",
        "df_sql = spark.sql(\"SELECT server_id, session_count FROM utilization WHERE session_count > 70 AND server_id = 120\")\n",
        "df_sql.show()"
      ],
      "metadata": {
        "colab": {
          "base_uri": "https://localhost:8080/"
        },
        "id": "LMVOV6boNH0i",
        "outputId": "ba6143dd-0d3c-438a-eefb-6fdb7ddaf382"
      },
      "execution_count": 38,
      "outputs": [
        {
          "output_type": "stream",
          "name": "stdout",
          "text": [
            "+---------+-------------+\n",
            "|server_id|session_count|\n",
            "+---------+-------------+\n",
            "|      120|           80|\n",
            "|      120|           71|\n",
            "|      120|           73|\n",
            "|      120|           72|\n",
            "|      120|           78|\n",
            "|      120|           73|\n",
            "|      120|           78|\n",
            "|      120|           73|\n",
            "|      120|           74|\n",
            "|      120|           78|\n",
            "|      120|           75|\n",
            "|      120|           75|\n",
            "|      120|           73|\n",
            "|      120|           79|\n",
            "|      120|           72|\n",
            "|      120|           77|\n",
            "|      120|           75|\n",
            "|      120|           72|\n",
            "|      120|           79|\n",
            "|      120|           75|\n",
            "+---------+-------------+\n",
            "only showing top 20 rows\n",
            "\n"
          ]
        }
      ]
    },
    {
      "cell_type": "code",
      "source": [
        "df_sql.count()"
      ],
      "metadata": {
        "colab": {
          "base_uri": "https://localhost:8080/"
        },
        "id": "ILTeoq8eOfEr",
        "outputId": "a6d1a570-0390-4bb5-eccd-7aee30702a1c"
      },
      "execution_count": 39,
      "outputs": [
        {
          "output_type": "execute_result",
          "data": {
            "text/plain": [
              "2733"
            ]
          },
          "metadata": {},
          "execution_count": 39
        }
      ]
    },
    {
      "cell_type": "code",
      "source": [
        "# We can use the backslash to make our sql code neater\n",
        "# DESC , AND , >\n",
        "df_sql = spark.sql(\"SELECT server_id, session_count \\\n",
        "                    FROM utilization \\\n",
        "                    WHERE session_count > 70 AND server_id = 120 \\\n",
        "                    ORDER BY session_count DESC\")\\\n",
        "\n",
        "df_sql.show()"
      ],
      "metadata": {
        "colab": {
          "base_uri": "https://localhost:8080/"
        },
        "id": "JH5ct8v-Oo37",
        "outputId": "46539997-0f52-4e96-9f77-b25b5f20c390"
      },
      "execution_count": 40,
      "outputs": [
        {
          "output_type": "stream",
          "name": "stdout",
          "text": [
            "+---------+-------------+\n",
            "|server_id|session_count|\n",
            "+---------+-------------+\n",
            "|      120|           80|\n",
            "|      120|           80|\n",
            "|      120|           80|\n",
            "|      120|           80|\n",
            "|      120|           80|\n",
            "|      120|           80|\n",
            "|      120|           80|\n",
            "|      120|           80|\n",
            "|      120|           80|\n",
            "|      120|           80|\n",
            "|      120|           80|\n",
            "|      120|           80|\n",
            "|      120|           80|\n",
            "|      120|           80|\n",
            "|      120|           80|\n",
            "|      120|           80|\n",
            "|      120|           80|\n",
            "|      120|           80|\n",
            "|      120|           80|\n",
            "|      120|           80|\n",
            "+---------+-------------+\n",
            "only showing top 20 rows\n",
            "\n"
          ]
        }
      ]
    }
  ]
}