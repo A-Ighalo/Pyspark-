{
  "nbformat": 4,
  "nbformat_minor": 0,
  "metadata": {
    "colab": {
      "provenance": []
    },
    "kernelspec": {
      "name": "python3",
      "display_name": "Python 3"
    },
    "language_info": {
      "name": "python"
    }
  },
  "cells": [
    {
      "cell_type": "code",
      "execution_count": 12,
      "metadata": {
        "id": "d25b8kLEoZEW"
      },
      "outputs": [],
      "source": [
        "from pyspark.sql import SparkSession"
      ]
    },
    {
      "cell_type": "code",
      "source": [
        "spark = SparkSession.builder.getOrCreate()"
      ],
      "metadata": {
        "id": "7gRxc7JjopMc"
      },
      "execution_count": 13,
      "outputs": []
    },
    {
      "cell_type": "code",
      "source": [
        "path = \"/content/location_temp.csv\"\n",
        "df_location = spark.read.format(\"csv\").option(\"header\",\"true\").load(path)\n",
        "df_location.show()"
      ],
      "metadata": {
        "colab": {
          "base_uri": "https://localhost:8080/"
        },
        "id": "TIj8Lrdso53u",
        "outputId": "1f1e3365-9385-4307-cd74-9a2d9ba19fd9"
      },
      "execution_count": 14,
      "outputs": [
        {
          "output_type": "stream",
          "name": "stdout",
          "text": [
            "+-------------------+-----------+------------+\n",
            "|         event_date|location_id|temp_celcius|\n",
            "+-------------------+-----------+------------+\n",
            "|03/04/2019 19:48:06|       loc0|          29|\n",
            "|03/04/2019 19:53:06|       loc0|          27|\n",
            "|03/04/2019 19:58:06|       loc0|          28|\n",
            "|03/04/2019 20:03:06|       loc0|          30|\n",
            "|03/04/2019 20:08:06|       loc0|          27|\n",
            "|03/04/2019 20:13:06|       loc0|          27|\n",
            "|03/04/2019 20:18:06|       loc0|          27|\n",
            "|03/04/2019 20:23:06|       loc0|          29|\n",
            "|03/04/2019 20:28:06|       loc0|          32|\n",
            "|03/04/2019 20:33:06|       loc0|          35|\n",
            "|03/04/2019 20:38:06|       loc0|          32|\n",
            "|03/04/2019 20:43:06|       loc0|          28|\n",
            "|03/04/2019 20:48:06|       loc0|          28|\n",
            "|03/04/2019 20:53:06|       loc0|          32|\n",
            "|03/04/2019 20:58:06|       loc0|          34|\n",
            "|03/04/2019 21:03:06|       loc0|          33|\n",
            "|03/04/2019 21:08:06|       loc0|          27|\n",
            "|03/04/2019 21:13:06|       loc0|          28|\n",
            "|03/04/2019 21:18:06|       loc0|          33|\n",
            "|03/04/2019 21:23:06|       loc0|          28|\n",
            "+-------------------+-----------+------------+\n",
            "only showing top 20 rows\n",
            "\n"
          ]
        }
      ]
    },
    {
      "cell_type": "code",
      "source": [
        "df_location.filter(df_location[\"location_id\"]==\"loc0\").show()"
      ],
      "metadata": {
        "colab": {
          "base_uri": "https://localhost:8080/"
        },
        "id": "zOSbj8ePpIQa",
        "outputId": "f39c029f-13a5-4e06-ff16-5f25e02f4ab5"
      },
      "execution_count": 15,
      "outputs": [
        {
          "output_type": "stream",
          "name": "stdout",
          "text": [
            "+-------------------+-----------+------------+\n",
            "|         event_date|location_id|temp_celcius|\n",
            "+-------------------+-----------+------------+\n",
            "|03/04/2019 19:48:06|       loc0|          29|\n",
            "|03/04/2019 19:53:06|       loc0|          27|\n",
            "|03/04/2019 19:58:06|       loc0|          28|\n",
            "|03/04/2019 20:03:06|       loc0|          30|\n",
            "|03/04/2019 20:08:06|       loc0|          27|\n",
            "|03/04/2019 20:13:06|       loc0|          27|\n",
            "|03/04/2019 20:18:06|       loc0|          27|\n",
            "|03/04/2019 20:23:06|       loc0|          29|\n",
            "|03/04/2019 20:28:06|       loc0|          32|\n",
            "|03/04/2019 20:33:06|       loc0|          35|\n",
            "|03/04/2019 20:38:06|       loc0|          32|\n",
            "|03/04/2019 20:43:06|       loc0|          28|\n",
            "|03/04/2019 20:48:06|       loc0|          28|\n",
            "|03/04/2019 20:53:06|       loc0|          32|\n",
            "|03/04/2019 20:58:06|       loc0|          34|\n",
            "|03/04/2019 21:03:06|       loc0|          33|\n",
            "|03/04/2019 21:08:06|       loc0|          27|\n",
            "|03/04/2019 21:13:06|       loc0|          28|\n",
            "|03/04/2019 21:18:06|       loc0|          33|\n",
            "|03/04/2019 21:23:06|       loc0|          28|\n",
            "+-------------------+-----------+------------+\n",
            "only showing top 20 rows\n",
            "\n"
          ]
        }
      ]
    },
    {
      "cell_type": "code",
      "source": [
        "# Count the rows in the DataFrame where the 'location_id' column equals \"loc0\"\n",
        "df_location.filter(df_location[\"location_id\"]==\"loc0\").count()"
      ],
      "metadata": {
        "colab": {
          "base_uri": "https://localhost:8080/"
        },
        "id": "QcNvgKxppyoj",
        "outputId": "52dc15f2-ef61-44d8-adbe-e7c0824999f8"
      },
      "execution_count": 16,
      "outputs": [
        {
          "output_type": "execute_result",
          "data": {
            "text/plain": [
              "1000"
            ]
          },
          "metadata": {},
          "execution_count": 16
        }
      ]
    },
    {
      "cell_type": "code",
      "source": [
        "# Count the rows in the DataFrame where the 'location_id' column equals \"loc1\"\n",
        "df_location.filter(df_location[\"location_id\"]==\"loc1\").count()"
      ],
      "metadata": {
        "colab": {
          "base_uri": "https://localhost:8080/"
        },
        "id": "4vTP1QvIp2DR",
        "outputId": "6805cbc7-5679-499e-d344-2bdad0afb068"
      },
      "execution_count": 17,
      "outputs": [
        {
          "output_type": "execute_result",
          "data": {
            "text/plain": [
              "1000"
            ]
          },
          "metadata": {},
          "execution_count": 17
        }
      ]
    },
    {
      "cell_type": "code",
      "source": [
        "# show the rows in the DataFrame where the 'location_id' column equals \"loc1\"\n",
        "df_location.filter(df_location[\"location_id\"]==\"loc1\").show()"
      ],
      "metadata": {
        "colab": {
          "base_uri": "https://localhost:8080/"
        },
        "id": "vfMJZXblqPdP",
        "outputId": "ef5bc53b-48f3-4f15-a3aa-ffa069dc66de"
      },
      "execution_count": 18,
      "outputs": [
        {
          "output_type": "stream",
          "name": "stdout",
          "text": [
            "+-------------------+-----------+------------+\n",
            "|         event_date|location_id|temp_celcius|\n",
            "+-------------------+-----------+------------+\n",
            "|03/04/2019 19:48:06|       loc1|          31|\n",
            "|03/04/2019 19:53:06|       loc1|          26|\n",
            "|03/04/2019 19:58:06|       loc1|          31|\n",
            "|03/04/2019 20:03:06|       loc1|          26|\n",
            "|03/04/2019 20:08:06|       loc1|          28|\n",
            "|03/04/2019 20:13:06|       loc1|          27|\n",
            "|03/04/2019 20:18:06|       loc1|          30|\n",
            "|03/04/2019 20:23:06|       loc1|          28|\n",
            "|03/04/2019 20:28:06|       loc1|          28|\n",
            "|03/04/2019 20:33:06|       loc1|          27|\n",
            "|03/04/2019 20:38:06|       loc1|          30|\n",
            "|03/04/2019 20:43:06|       loc1|          32|\n",
            "|03/04/2019 20:48:06|       loc1|          26|\n",
            "|03/04/2019 20:53:06|       loc1|          30|\n",
            "|03/04/2019 20:58:06|       loc1|          26|\n",
            "|03/04/2019 21:03:06|       loc1|          28|\n",
            "|03/04/2019 21:08:06|       loc1|          27|\n",
            "|03/04/2019 21:13:06|       loc1|          28|\n",
            "|03/04/2019 21:18:06|       loc1|          27|\n",
            "|03/04/2019 21:23:06|       loc1|          26|\n",
            "+-------------------+-----------+------------+\n",
            "only showing top 20 rows\n",
            "\n"
          ]
        }
      ]
    }
  ]
}