{
  "nbformat": 4,
  "nbformat_minor": 0,
  "metadata": {
    "colab": {
      "provenance": []
    },
    "kernelspec": {
      "name": "python3",
      "display_name": "Python 3"
    },
    "language_info": {
      "name": "python"
    }
  },
  "cells": [
    {
      "cell_type": "code",
      "execution_count": 1,
      "metadata": {
        "id": "tpYcViz4u0Zp"
      },
      "outputs": [],
      "source": [
        "from pyspark.sql import SparkSession\n",
        "from pyspark.ml.regression import LinearRegression\n",
        "from pyspark.ml.feature import VectorAssembler"
      ]
    },
    {
      "cell_type": "code",
      "source": [
        "spark = SparkSession.builder.getOrCreate()"
      ],
      "metadata": {
        "id": "M-Sha3nDzPUw"
      },
      "execution_count": 2,
      "outputs": []
    },
    {
      "cell_type": "code",
      "source": [
        "file_path = \"/content/utilization.json\"\n",
        "df= spark.read.format(\"json\").load(file_path)"
      ],
      "metadata": {
        "id": "1hR5wSif0IAh"
      },
      "execution_count": 3,
      "outputs": []
    },
    {
      "cell_type": "markdown",
      "source": [
        "# Make predictions Using cpu_prediction\n"
      ],
      "metadata": {
        "id": "86DUvU0-KNLe"
      }
    },
    {
      "cell_type": "code",
      "source": [
        "VectorAssembler = VectorAssembler(inputCols = [\"cpu_utilization\"], outputCol = \"features\")"
      ],
      "metadata": {
        "id": "pgSNpBRD0w-c"
      },
      "execution_count": 4,
      "outputs": []
    },
    {
      "cell_type": "code",
      "source": [
        "#Result : Transforms the data in df apply the transformation. InputCol and OutputCol\n",
        "df_vutil = VectorAssembler.transform(df)"
      ],
      "metadata": {
        "id": "XfC41HED6Ly0"
      },
      "execution_count": 5,
      "outputs": []
    },
    {
      "cell_type": "code",
      "source": [
        "df_vutil.show()"
      ],
      "metadata": {
        "colab": {
          "base_uri": "https://localhost:8080/"
        },
        "id": "x1DDIXqy6Wn_",
        "outputId": "893a3c82-3e55-4731-f7c6-28c021c2932b"
      },
      "execution_count": 6,
      "outputs": [
        {
          "output_type": "stream",
          "name": "stdout",
          "text": [
            "+---------------+-------------------+-----------+---------+-------------+--------+\n",
            "|cpu_utilization|     event_datetime|free_memory|server_id|session_count|features|\n",
            "+---------------+-------------------+-----------+---------+-------------+--------+\n",
            "|           0.57|03/05/2019 08:06:14|       0.51|      100|           47|  [0.57]|\n",
            "|           0.47|03/05/2019 08:11:14|       0.62|      100|           43|  [0.47]|\n",
            "|           0.56|03/05/2019 08:16:14|       0.57|      100|           62|  [0.56]|\n",
            "|           0.57|03/05/2019 08:21:14|       0.56|      100|           50|  [0.57]|\n",
            "|           0.35|03/05/2019 08:26:14|       0.46|      100|           43|  [0.35]|\n",
            "|           0.41|03/05/2019 08:31:14|       0.58|      100|           48|  [0.41]|\n",
            "|           0.57|03/05/2019 08:36:14|       0.35|      100|           58|  [0.57]|\n",
            "|           0.41|03/05/2019 08:41:14|        0.4|      100|           58|  [0.41]|\n",
            "|           0.53|03/05/2019 08:46:14|       0.35|      100|           62|  [0.53]|\n",
            "|           0.51|03/05/2019 08:51:14|        0.6|      100|           45|  [0.51]|\n",
            "|           0.32|03/05/2019 08:56:14|       0.37|      100|           47|  [0.32]|\n",
            "|           0.62|03/05/2019 09:01:14|       0.59|      100|           60|  [0.62]|\n",
            "|           0.66|03/05/2019 09:06:14|       0.72|      100|           57|  [0.66]|\n",
            "|           0.54|03/05/2019 09:11:14|       0.54|      100|           44|  [0.54]|\n",
            "|           0.29|03/05/2019 09:16:14|        0.4|      100|           47|  [0.29]|\n",
            "|           0.43|03/05/2019 09:21:14|       0.68|      100|           66|  [0.43]|\n",
            "|           0.49|03/05/2019 09:26:14|       0.66|      100|           65|  [0.49]|\n",
            "|           0.64|03/05/2019 09:31:14|       0.55|      100|           66|  [0.64]|\n",
            "|           0.42|03/05/2019 09:36:14|        0.6|      100|           42|  [0.42]|\n",
            "|           0.55|03/05/2019 09:41:14|       0.59|      100|           63|  [0.55]|\n",
            "+---------------+-------------------+-----------+---------+-------------+--------+\n",
            "only showing top 20 rows\n",
            "\n"
          ]
        }
      ]
    },
    {
      "cell_type": "code",
      "source": [
        "#Here we are using the features column to predict session_count\n",
        "\n",
        "lr = LinearRegression(featuresCol = \"features\", labelCol = \"session_count\")"
      ],
      "metadata": {
        "id": "fOe_jMt_6dYJ"
      },
      "execution_count": 7,
      "outputs": []
    },
    {
      "cell_type": "code",
      "source": [
        "\n",
        "# data used to fit our core structure model to form linear regression model\n",
        "lrModel = lr.fit(df_vutil)   #Linear Regression Model"
      ],
      "metadata": {
        "id": "zXCAy9hN6tqn"
      },
      "execution_count": 8,
      "outputs": []
    },
    {
      "cell_type": "code",
      "source": [
        "#The linear regresision consists of the coefficience and the intercept\n",
        "lrModel.coefficients  # axis / slope\n"
      ],
      "metadata": {
        "colab": {
          "base_uri": "https://localhost:8080/"
        },
        "id": "MTLJiD9B6_hD",
        "outputId": "bdbc2173-e2f5-4c07-c448-1631ffa68191"
      },
      "execution_count": 9,
      "outputs": [
        {
          "output_type": "execute_result",
          "data": {
            "text/plain": [
              "DenseVector([50.2164])"
            ]
          },
          "metadata": {},
          "execution_count": 9
        }
      ]
    },
    {
      "cell_type": "code",
      "source": [
        "#Where the x axis meets the y axis\n",
        "lrModel.intercept"
      ],
      "metadata": {
        "colab": {
          "base_uri": "https://localhost:8080/"
        },
        "id": "wqKhefpU76RH",
        "outputId": "3c10b90e-0230-4d70-e475-0f04503931bd"
      },
      "execution_count": 10,
      "outputs": [
        {
          "output_type": "execute_result",
          "data": {
            "text/plain": [
              "38.662051929153506"
            ]
          },
          "metadata": {},
          "execution_count": 10
        }
      ]
    },
    {
      "cell_type": "code",
      "source": [
        "# To check the error when fitting a model, use the Root Mean Squared Error (RMSE):\n",
        "\n",
        "lrModel.summary.rootMeanSquaredError"
      ],
      "metadata": {
        "colab": {
          "base_uri": "https://localhost:8080/"
        },
        "id": "i4UTff148Zb3",
        "outputId": "b329dd09-77d8-4b4a-c32a-b87c9a6f25c4"
      },
      "execution_count": 11,
      "outputs": [
        {
          "output_type": "execute_result",
          "data": {
            "text/plain": [
              "13.013525546375222"
            ]
          },
          "metadata": {},
          "execution_count": 11
        }
      ]
    },
    {
      "cell_type": "code",
      "source": [],
      "metadata": {
        "id": "eGW2G8tyP1Ci"
      },
      "execution_count": 11,
      "outputs": []
    }
  ]
}