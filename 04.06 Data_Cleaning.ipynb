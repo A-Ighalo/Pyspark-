{
  "nbformat": 4,
  "nbformat_minor": 0,
  "metadata": {
    "colab": {
      "provenance": []
    },
    "kernelspec": {
      "name": "python3",
      "display_name": "Python 3"
    },
    "language_info": {
      "name": "python"
    }
  },
  "cells": [
    {
      "cell_type": "markdown",
      "source": [
        "#Removing Duplicate Data, in Rows And Columns"
      ],
      "metadata": {
        "id": "MlM2iW_985EW"
      }
    },
    {
      "cell_type": "code",
      "execution_count": 17,
      "metadata": {
        "colab": {
          "base_uri": "https://localhost:8080/"
        },
        "id": "VNnUNjYKgxtp",
        "outputId": "8f540e14-c9b3-4bcf-c734-7c3c625fa980"
      },
      "outputs": [
        {
          "output_type": "stream",
          "name": "stderr",
          "text": [
            "/usr/local/lib/python3.10/dist-packages/pyspark/sql/context.py:113: FutureWarning: Deprecated in 3.0.0. Use SparkSession.builder.getOrCreate() instead.\n",
            "  warnings.warn(\n"
          ]
        }
      ],
      "source": [
        "from pyspark.sql import Row,SQLContext\n",
        "from pyspark import SparkContext\n",
        "\n",
        "sc = SparkContext.getOrCreate()\n",
        "\n",
        "sqlContext = SQLContext(sc)"
      ]
    },
    {
      "cell_type": "code",
      "source": [
        "spark = SparkSession.builder.appName(\"Data Cleaning Using Spark\").getOrCreate()"
      ],
      "metadata": {
        "id": "tpwOUi16FtIb"
      },
      "execution_count": 45,
      "outputs": []
    },
    {
      "cell_type": "code",
      "source": [
        "df_dup = sc.parallelize([Row (server_name = \"101 Server\", cpu_utilization = 85, session_count = 80),\\\n",
        "                         Row (server_name = \"101 Server\", cpu_utilization = 80, session_count = 90), \\\n",
        "                         Row (server_name = \"102 Server\", cpu_utilization = 85, session_count = 80), \\\n",
        "                         Row (server_name = \"102 Server\", cpu_utilization = 85, session_count = 80)]).toDF()"
      ],
      "metadata": {
        "id": "nPvqhIpwl20i"
      },
      "execution_count": 18,
      "outputs": []
    },
    {
      "cell_type": "code",
      "source": [
        "df_dup.show()"
      ],
      "metadata": {
        "colab": {
          "base_uri": "https://localhost:8080/"
        },
        "id": "_n3UCmRE3tRE",
        "outputId": "2b8b62f0-1c3f-4fdd-e621-0f4a57a6f359"
      },
      "execution_count": 19,
      "outputs": [
        {
          "output_type": "stream",
          "name": "stdout",
          "text": [
            "+-----------+---------------+-------------+\n",
            "|server_name|cpu_utilization|session_count|\n",
            "+-----------+---------------+-------------+\n",
            "| 101 Server|             85|           80|\n",
            "| 101 Server|             80|           90|\n",
            "| 102 Server|             85|           80|\n",
            "| 102 Server|             85|           80|\n",
            "+-----------+---------------+-------------+\n",
            "\n"
          ]
        }
      ]
    },
    {
      "cell_type": "code",
      "source": [
        "#Removing duplicates in row data\n",
        "df_dup.drop_duplicates().show()"
      ],
      "metadata": {
        "colab": {
          "base_uri": "https://localhost:8080/"
        },
        "id": "w3kNeLdF6_Sk",
        "outputId": "8285c557-6028-4d16-e38f-87b1856e2153"
      },
      "execution_count": 20,
      "outputs": [
        {
          "output_type": "stream",
          "name": "stdout",
          "text": [
            "+-----------+---------------+-------------+\n",
            "|server_name|cpu_utilization|session_count|\n",
            "+-----------+---------------+-------------+\n",
            "| 101 Server|             85|           80|\n",
            "| 101 Server|             80|           90|\n",
            "| 102 Server|             85|           80|\n",
            "+-----------+---------------+-------------+\n",
            "\n"
          ]
        }
      ]
    },
    {
      "cell_type": "code",
      "source": [
        "#Removing duplicates in column data\n",
        "df_dup.drop_duplicates([\"server_name\"]).show()"
      ],
      "metadata": {
        "colab": {
          "base_uri": "https://localhost:8080/"
        },
        "id": "_BD6yRPn7RxE",
        "outputId": "8a9efb13-b976-48ce-9660-0e74f57e1b88"
      },
      "execution_count": 23,
      "outputs": [
        {
          "output_type": "stream",
          "name": "stdout",
          "text": [
            "+-----------+---------------+-------------+\n",
            "|server_name|cpu_utilization|session_count|\n",
            "+-----------+---------------+-------------+\n",
            "| 101 Server|             85|           80|\n",
            "| 102 Server|             85|           80|\n",
            "+-----------+---------------+-------------+\n",
            "\n"
          ]
        }
      ]
    },
    {
      "cell_type": "markdown",
      "source": [
        "#Working With NAs\n"
      ],
      "metadata": {
        "id": "aohQcfy_9GBG"
      }
    },
    {
      "cell_type": "code",
      "source": [
        "from pyspark.sql import Row\n",
        "from pyspark.sql import SparkSession\n",
        "from pyspark.sql.functions import lit\n",
        "from pyspark.sql.types import StringType"
      ],
      "metadata": {
        "id": "plXxRXYd9FV1"
      },
      "execution_count": 43,
      "outputs": []
    },
    {
      "cell_type": "code",
      "source": [
        " df = sc.parallelize([Row (server_name = \"101 Server\", cpu_utilization = 85, session_count = 80),\\\n",
        "                         Row (server_name = \"101 Server\", cpu_utilization = 80, session_count = 90), \\\n",
        "                         Row (server_name = \"102 Server\", cpu_utilization = 85, session_count = 80), \\\n",
        "                         Row (server_name = \"102 Server\", cpu_utilization = 85, session_count = 80)]).toDF()"
      ],
      "metadata": {
        "id": "iiD3Vsrn8Ymz"
      },
      "execution_count": 28,
      "outputs": []
    },
    {
      "cell_type": "code",
      "source": [
        "df.show()"
      ],
      "metadata": {
        "colab": {
          "base_uri": "https://localhost:8080/"
        },
        "id": "cct9laVvAC1Y",
        "outputId": "7b1eae83-bf4d-4b87-babd-e2e19b30fad0"
      },
      "execution_count": 29,
      "outputs": [
        {
          "output_type": "stream",
          "name": "stdout",
          "text": [
            "+-----------+---------------+-------------+\n",
            "|server_name|cpu_utilization|session_count|\n",
            "+-----------+---------------+-------------+\n",
            "| 101 Server|             85|           80|\n",
            "| 101 Server|             80|           90|\n",
            "| 102 Server|             85|           80|\n",
            "| 102 Server|             85|           80|\n",
            "+-----------+---------------+-------------+\n",
            "\n"
          ]
        }
      ]
    },
    {
      "cell_type": "code",
      "source": [
        "#Add an na or None column to the dataframe\n",
        "df_na = df.withColumn('na_col',lit(None).cast(StringType()))"
      ],
      "metadata": {
        "id": "r6SX6QJeAI3S"
      },
      "execution_count": 31,
      "outputs": []
    },
    {
      "cell_type": "code",
      "source": [
        "df_na.show()"
      ],
      "metadata": {
        "colab": {
          "base_uri": "https://localhost:8080/"
        },
        "id": "oT1HcoMEBbNC",
        "outputId": "4c8f055f-9066-4803-a3fd-8ad57ad7dcff"
      },
      "execution_count": 32,
      "outputs": [
        {
          "output_type": "stream",
          "name": "stdout",
          "text": [
            "+-----------+---------------+-------------+------+\n",
            "|server_name|cpu_utilization|session_count|na_col|\n",
            "+-----------+---------------+-------------+------+\n",
            "| 101 Server|             85|           80|  NULL|\n",
            "| 101 Server|             80|           90|  NULL|\n",
            "| 102 Server|             85|           80|  NULL|\n",
            "| 102 Server|             85|           80|  NULL|\n",
            "+-----------+---------------+-------------+------+\n",
            "\n"
          ]
        }
      ]
    },
    {
      "cell_type": "code",
      "source": [
        "#fill the na values or None values with A\n",
        "df_na.fillna('A').show()"
      ],
      "metadata": {
        "colab": {
          "base_uri": "https://localhost:8080/"
        },
        "id": "MX5BgfYIBc3t",
        "outputId": "8cba6ea8-2efd-483e-d8dd-c5ebfe22f6f0"
      },
      "execution_count": 33,
      "outputs": [
        {
          "output_type": "stream",
          "name": "stdout",
          "text": [
            "+-----------+---------------+-------------+------+\n",
            "|server_name|cpu_utilization|session_count|na_col|\n",
            "+-----------+---------------+-------------+------+\n",
            "| 101 Server|             85|           80|     A|\n",
            "| 101 Server|             80|           90|     A|\n",
            "| 102 Server|             85|           80|     A|\n",
            "| 102 Server|             85|           80|     A|\n",
            "+-----------+---------------+-------------+------+\n",
            "\n"
          ]
        }
      ]
    },
    {
      "cell_type": "code",
      "source": [
        "\n",
        "df2 = df_na.fillna('A').union(df_na)"
      ],
      "metadata": {
        "id": "SwWE3VYdBz1I"
      },
      "execution_count": 34,
      "outputs": []
    },
    {
      "cell_type": "code",
      "source": [
        "df2.show()"
      ],
      "metadata": {
        "colab": {
          "base_uri": "https://localhost:8080/"
        },
        "id": "sU0FESncCFlF",
        "outputId": "affe8899-900f-4dda-f864-c4d996f06a53"
      },
      "execution_count": 35,
      "outputs": [
        {
          "output_type": "stream",
          "name": "stdout",
          "text": [
            "+-----------+---------------+-------------+------+\n",
            "|server_name|cpu_utilization|session_count|na_col|\n",
            "+-----------+---------------+-------------+------+\n",
            "| 101 Server|             85|           80|     A|\n",
            "| 101 Server|             80|           90|     A|\n",
            "| 102 Server|             85|           80|     A|\n",
            "| 102 Server|             85|           80|     A|\n",
            "| 101 Server|             85|           80|  NULL|\n",
            "| 101 Server|             80|           90|  NULL|\n",
            "| 102 Server|             85|           80|  NULL|\n",
            "| 102 Server|             85|           80|  NULL|\n",
            "+-----------+---------------+-------------+------+\n",
            "\n"
          ]
        }
      ]
    },
    {
      "cell_type": "code",
      "source": [
        "df2.na.drop().show()"
      ],
      "metadata": {
        "colab": {
          "base_uri": "https://localhost:8080/"
        },
        "id": "U7eThfxLCGQ7",
        "outputId": "166efc91-054f-499c-da70-ca40abfd7c38"
      },
      "execution_count": 38,
      "outputs": [
        {
          "output_type": "stream",
          "name": "stdout",
          "text": [
            "+-----------+---------------+-------------+------+\n",
            "|server_name|cpu_utilization|session_count|na_col|\n",
            "+-----------+---------------+-------------+------+\n",
            "| 101 Server|             85|           80|     A|\n",
            "| 101 Server|             80|           90|     A|\n",
            "| 102 Server|             85|           80|     A|\n",
            "| 102 Server|             85|           80|     A|\n",
            "+-----------+---------------+-------------+------+\n",
            "\n"
          ]
        }
      ]
    },
    {
      "cell_type": "markdown",
      "source": [
        "# **Lets do the same thing with SQL**"
      ],
      "metadata": {
        "id": "1L3snQ6bEnaC"
      }
    },
    {
      "cell_type": "code",
      "source": [
        "df2.createOrReplaceTempView(\"na_table\")"
      ],
      "metadata": {
        "id": "dxdQvGIdEdAN"
      },
      "execution_count": 41,
      "outputs": []
    },
    {
      "cell_type": "code",
      "source": [
        "spark.sql(\"SELECT * FROM na_table\").show()"
      ],
      "metadata": {
        "colab": {
          "base_uri": "https://localhost:8080/"
        },
        "id": "j7_6OZD1FIt2",
        "outputId": "71a3ac77-6afd-4537-9cdd-c444f0044a1b"
      },
      "execution_count": 46,
      "outputs": [
        {
          "output_type": "stream",
          "name": "stdout",
          "text": [
            "+-----------+---------------+-------------+------+\n",
            "|server_name|cpu_utilization|session_count|na_col|\n",
            "+-----------+---------------+-------------+------+\n",
            "| 101 Server|             85|           80|     A|\n",
            "| 101 Server|             80|           90|     A|\n",
            "| 102 Server|             85|           80|     A|\n",
            "| 102 Server|             85|           80|     A|\n",
            "| 101 Server|             85|           80|  NULL|\n",
            "| 101 Server|             80|           90|  NULL|\n",
            "| 102 Server|             85|           80|  NULL|\n",
            "| 102 Server|             85|           80|  NULL|\n",
            "+-----------+---------------+-------------+------+\n",
            "\n"
          ]
        }
      ]
    },
    {
      "cell_type": "code",
      "source": [
        "spark.sql(\"SELECT *FROM na_table WHERE na_col IS NULL\").show()"
      ],
      "metadata": {
        "colab": {
          "base_uri": "https://localhost:8080/"
        },
        "id": "0_cl6qlSFmUp",
        "outputId": "52e5c63a-4fe9-4c97-db04-2ed59f03a951"
      },
      "execution_count": 47,
      "outputs": [
        {
          "output_type": "stream",
          "name": "stdout",
          "text": [
            "+-----------+---------------+-------------+------+\n",
            "|server_name|cpu_utilization|session_count|na_col|\n",
            "+-----------+---------------+-------------+------+\n",
            "| 101 Server|             85|           80|  NULL|\n",
            "| 101 Server|             80|           90|  NULL|\n",
            "| 102 Server|             85|           80|  NULL|\n",
            "| 102 Server|             85|           80|  NULL|\n",
            "+-----------+---------------+-------------+------+\n",
            "\n"
          ]
        }
      ]
    },
    {
      "cell_type": "code",
      "source": [
        "spark.sql(\"SELECT * FROM na_table WHERE na_col IS NOT NULL \").show()"
      ],
      "metadata": {
        "colab": {
          "base_uri": "https://localhost:8080/"
        },
        "id": "FQaCA1LxGo-9",
        "outputId": "d66eac4a-34a0-4500-ae53-f21a5e765073"
      },
      "execution_count": 48,
      "outputs": [
        {
          "output_type": "stream",
          "name": "stdout",
          "text": [
            "+-----------+---------------+-------------+------+\n",
            "|server_name|cpu_utilization|session_count|na_col|\n",
            "+-----------+---------------+-------------+------+\n",
            "| 101 Server|             85|           80|     A|\n",
            "| 101 Server|             80|           90|     A|\n",
            "| 102 Server|             85|           80|     A|\n",
            "| 102 Server|             85|           80|     A|\n",
            "+-----------+---------------+-------------+------+\n",
            "\n"
          ]
        }
      ]
    }
  ]
}